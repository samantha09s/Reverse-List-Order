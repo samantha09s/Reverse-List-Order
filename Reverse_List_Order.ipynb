{
  "nbformat": 4,
  "nbformat_minor": 0,
  "metadata": {
    "colab": {
      "provenance": [],
      "authorship_tag": "ABX9TyMAAblo9CxG/P6b2hwSgVmK",
      "include_colab_link": true
    },
    "kernelspec": {
      "name": "python3",
      "display_name": "Python 3"
    },
    "language_info": {
      "name": "python"
    }
  },
  "cells": [
    {
      "cell_type": "markdown",
      "metadata": {
        "id": "view-in-github",
        "colab_type": "text"
      },
      "source": [
        "<a href=\"https://colab.research.google.com/github/samantha09s/Reverse-List-Order/blob/main/Reverse_List_Order.ipynb\" target=\"_parent\"><img src=\"https://colab.research.google.com/assets/colab-badge.svg\" alt=\"Open In Colab\"/></a>"
      ]
    },
    {
      "cell_type": "markdown",
      "source": [
        "# 📌 **Actividad 7.3 - Practical Tasks**\n",
        "\n",
        "## **Reto VI: Reverse List Order**\n",
        "\n",
        "### **1️⃣ Descripción del Problema**  \n",
        "En este reto, se debe desarrollar una función en Python que reciba una **lista de elementos** y retorne una nueva lista con el **orden invertido**.\n",
        "\n",
        "### **2️⃣ Objetivo del Código**\n",
        "- Implementar una función en Python que invierta el orden de los elementos de una lista de manera eficiente.\n",
        "- Explorar diferentes formas de resolver el problema usando técnicas de manipulación de listas.\n",
        "- Garantizar que la solución funcione con listas vacías y listas con diferentes tipos de datos.\n",
        "\n",
        "---"
      ],
      "metadata": {
        "id": "w99v7DAVJaNj"
      }
    },
    {
      "cell_type": "markdown",
      "source": [
        "## **Método 1: Usando `[::-1]` (Slicing)**"
      ],
      "metadata": {
        "id": "rh6znRJ2OEtm"
      }
    },
    {
      "cell_type": "code",
      "source": [
        "# Función que invierte el orden de una lista\n",
        "def reverse_list(lst):\n",
        "    # Se usa slicing para invertir la lista y devolverla\n",
        "    return lst[::-1]\n",
        "\n",
        "# Imprimir resultados\n",
        "print(reverse_list([1, 2, 3, 4]))\n",
        "print(reverse_list([9, 2, 0, 7]))"
      ],
      "metadata": {
        "colab": {
          "base_uri": "https://localhost:8080/"
        },
        "id": "_-oKfS0MMFeY",
        "outputId": "47f9b872-24bb-473b-fb66-a221183a2eac"
      },
      "execution_count": null,
      "outputs": [
        {
          "output_type": "stream",
          "name": "stdout",
          "text": [
            "[4, 3, 2, 1]\n",
            "[7, 0, 2, 9]\n"
          ]
        }
      ]
    },
    {
      "cell_type": "markdown",
      "source": [
        "### **Explicación:**\n",
        "\n",
        "- Se utiliza **slicing (`[::-1]`)**, que es la forma más rápida y eficiente de invertir una lista en Python.\n",
        "- Se devuelve una **nueva lista sin modificar la original**."
      ],
      "metadata": {
        "id": "-o1w2YoSNp0b"
      }
    },
    {
      "cell_type": "markdown",
      "source": [
        "## **Método 2: Usando `reversed()` y `list()`**"
      ],
      "metadata": {
        "id": "2rI2AHLINi2v"
      }
    },
    {
      "cell_type": "code",
      "source": [
        "# Función que invierte el orden de una lista usando reversed()\n",
        "def reverse_list(lst):\n",
        "    # Se usa reversed() para invertir la lista y convertirla a lista con list()\n",
        "    return list(reversed(lst))\n",
        "\n",
        "# Imprimir resultados\n",
        "print(reverse_list([4, 5, 6, 7]))\n",
        "print(reverse_list([\"a\", \"b\", \"c\"]))"
      ],
      "metadata": {
        "colab": {
          "base_uri": "https://localhost:8080/"
        },
        "id": "Gg9HGca1MS_Y",
        "outputId": "1284ad78-9c90-43c9-a156-f714fea4de8d"
      },
      "execution_count": null,
      "outputs": [
        {
          "output_type": "stream",
          "name": "stdout",
          "text": [
            "[7, 6, 5, 4]\n",
            "['c', 'b', 'a']\n"
          ]
        }
      ]
    },
    {
      "cell_type": "markdown",
      "source": [
        "### **Explicación:**\n",
        "\n",
        "- `reversed(lst)` devuelve un **iterador** con los elementos en orden inverso.\n",
        "- `list()` lo convierte en una lista normal."
      ],
      "metadata": {
        "id": "hcGqMH2SNYSN"
      }
    },
    {
      "cell_type": "markdown",
      "source": [
        "## **Método 3: Usando un Bucle `for`**"
      ],
      "metadata": {
        "id": "fs5ASgKEM2VY"
      }
    },
    {
      "cell_type": "code",
      "source": [
        "# Función que invierte el orden de una lista usando un bucle for\n",
        "def reverse_list(lst):\n",
        "    # Se crea una lista vacía para almacenar los elementos invertidos\n",
        "    reversed_lst = []\n",
        "    # Se recorre la lista desde el último elemento hasta el primero\n",
        "    for i in range(len(lst) - 1, -1, -1):\n",
        "        reversed_lst.append(lst[i])\n",
        "    return reversed_lst\n",
        "\n",
        "# Imprimir resultados\n",
        "print(reverse_list([7, 8, 9, 10]))\n",
        "print(reverse_list([\"Python\", \"es\", \"genial\"]))"
      ],
      "metadata": {
        "colab": {
          "base_uri": "https://localhost:8080/"
        },
        "id": "rv0w7nsIMiRX",
        "outputId": "3bb38136-c9e0-4fde-9fba-3fb8bb92899e"
      },
      "execution_count": null,
      "outputs": [
        {
          "output_type": "stream",
          "name": "stdout",
          "text": [
            "[10, 9, 8, 7]\n",
            "['genial', 'es', 'Python']\n"
          ]
        }
      ]
    },
    {
      "cell_type": "markdown",
      "source": [
        "### **Explicación:**\n",
        "\n",
        "- Se recorre la lista **desde el final hasta el inicio** (`range(len(lst) - 1, -1, -1)`).\n",
        "- Se almacenan los elementos en una nueva lista `reversed_lst`."
      ],
      "metadata": {
        "id": "vWQzErEeM-dX"
      }
    },
    {
      "cell_type": "markdown",
      "source": [
        "## **Justificación de la Solución**\n",
        "| Método | Código | Modifica la lista original | Velocidad | Facilidad de uso |\n",
        "|---------|------------|--------------------|------------|-----------------|\n",
        "| **Slicing `[::-1]`** | `lst[::-1]` | ❌ No | **Muy rápido** | ⭐⭐⭐⭐⭐ |\n",
        "| **`reversed()` + `list()`** | `list(reversed(lst))` | ❌ No | Rápido | ⭐⭐⭐⭐ |\n",
        "| **Bucle `for`** | `for` con `.append()` | ❌ No | Rápido | ⭐⭐⭐ |\n",
        "\n",
        "**Conclusión:**  \n",
        "- Se eligió la solución con **`[::-1]`** porque es **más eficiente, legible y rápida**.  \n",
        "- También se exploraron otras alternativas para demostrar diferentes enfoques.  \n",
        "- El código es **robusto y funciona con listas vacías, números, cadenas y tipos mixtos**.\n",
        "\n",
        "---\n",
        "\n",
        "## 📌 **Reflexión Final**\n",
        "- **El reto \"Reverse List Order\" se resolvió de manera eficiente usando `[::-1]`, `reversed()`, y un `for` loop.**\n",
        "- Se garantiza que **funciona con listas vacías, números, cadenas y tipos mixtos**.\n",
        "- **Slicing (`[::-1]`) es la mejor opción** por su rapidez y simplicidad."
      ],
      "metadata": {
        "id": "QZ7Fkfz7O79v"
      }
    }
  ]
}